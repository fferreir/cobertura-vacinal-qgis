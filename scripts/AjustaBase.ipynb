{
 "cells": [
  {
   "cell_type": "markdown",
   "id": "95876133-bd6e-4b38-a50c-6f3e7327a546",
   "metadata": {},
   "source": [
    "# Coberturas vacinais por município\n",
    "\n",
    "A planilha de cobertura vacinal, obtida do site do [Minitério da Saúde](https://infoms.saude.gov.br/extensions/SEIDIGI_DEMAS_VACINACAO_CALENDARIO_NACIONAL_MENU_COBERTURA/SEIDIGI_DEMAS_VACINACAO_CALENDARIO_NACIONAL_MENU_COBERTURA.html),  apresenta células unidas, linhas com totais, hífen para representar ausência de dados e identificação do município associada ao código do IBGE com seis dígitos como apresentado a seguir.\n",
    "\n",
    "<figure>\n",
    "  <img\n",
    "  src=\"Figuras/PlanilhaCoberturas.png\"\n",
    "  alt=\"Planilha de coberturas vacinais\">\n",
    "  <figcaption>Planilha de coberturas vacinais</figcaption>\n",
    "</figure>\n",
    "\n",
    "\n",
    "\n",
    "O objetivo é gerar uma planilha com as coberturas vacinais para os diferentes imunobiológicos com colunas separadas para o nome do município e cógido do IBGE. Esta última será utilizada para unir esta planilha com a malha municipal do Brasil obtida no site do [IBGE](https://www.ibge.gov.br/geociencias/downloads-geociencias.html) e simplificada utilizando-se o [mapshaper](https://github.com/mbloch/mapshaper) reduzindo-se a quantidade de pontos para 1%, tornando o arquivo menor sem prejuízo para visualização nas escalas utilizadas."
   ]
  },
  {
   "cell_type": "code",
   "execution_count": 1,
   "id": "79d9a47c-b1c0-43c9-b79b-9808dbb46e03",
   "metadata": {},
   "outputs": [],
   "source": [
    "import pandas as pd\n",
    "import geopandas as gpd"
   ]
  },
  {
   "cell_type": "code",
   "execution_count": 2,
   "id": "3d9f0dc3-d3cc-4fdc-a06e-87788e6b1e42",
   "metadata": {},
   "outputs": [],
   "source": [
    "coberturas = pd.read_excel('../data/coberturas_2024.xlsx')"
   ]
  },
  {
   "cell_type": "code",
   "execution_count": 3,
   "id": "9896c3aa-4a88-4467-85f2-3a8b5fec29e5",
   "metadata": {},
   "outputs": [],
   "source": [
    "coberturas.reset_index(inplace=True)"
   ]
  },
  {
   "cell_type": "code",
   "execution_count": 4,
   "id": "7f89e343-e6e3-4b54-907e-084642b3920c",
   "metadata": {},
   "outputs": [],
   "source": [
    "for coluna in ['Região Ocorrência', 'UF Residência', 'Macrorregião Saúde', 'Região de Saúde', 'Município Residência']:\n",
    "    coberturas.drop(coberturas.loc[coberturas[coluna]=='Totais'].index, axis=0, inplace=True)"
   ]
  },
  {
   "cell_type": "code",
   "execution_count": 5,
   "id": "57a95af7-ff67-4f7c-a921-aed6935c17a1",
   "metadata": {},
   "outputs": [],
   "source": [
    "coberturas.replace({'-': None}, inplace=True)"
   ]
  },
  {
   "cell_type": "code",
   "execution_count": 6,
   "id": "f7761d8f-1dd0-40bb-939c-a47c1e77e373",
   "metadata": {},
   "outputs": [],
   "source": [
    "coberturas['Código IBGE 6'] = coberturas['Município Residência'].apply(lambda x: x.split('-')[0].strip())"
   ]
  },
  {
   "cell_type": "code",
   "execution_count": 7,
   "id": "16cb161a-b8d9-411e-8857-8911fc10af46",
   "metadata": {},
   "outputs": [],
   "source": [
    "coberturas['Nome município'] = coberturas['Município Residência'].apply(lambda x: x.split('-')[1].strip())"
   ]
  },
  {
   "cell_type": "code",
   "execution_count": 8,
   "id": "54dc063b-b7fb-4aa3-abc1-f845b5a6fcd0",
   "metadata": {},
   "outputs": [],
   "source": [
    "coberturas.drop(['index', \n",
    "                 ' ', \n",
    "                 'Região Ocorrência', \n",
    "                 'Macrorregião Saúde', \n",
    "                 'Região de Saúde', \n",
    "                 'Município Residência',\n",
    "                 'Imunobiológico'], \n",
    "                axis=1, \n",
    "                inplace=True)"
   ]
  },
  {
   "cell_type": "markdown",
   "id": "d702d5e9-be4e-434d-97aa-8432cc510872",
   "metadata": {},
   "source": [
    "## Gera arquivo cvs de coberturas vacinais com geometria\n",
    "\n",
    "Optou-se por exportar para cvs pois os arquivos do tipo ESRI Shapefile tem limitação de 10 caracteres no máximo para o nome de cada coluna. A exportação para geopackage gerou um arquivo com pequenos problemas (parece estar associado ao GDAL). Como existe uma coluna com geometria em WKT, o formato csv atende ao objetivo."
   ]
  },
  {
   "cell_type": "code",
   "execution_count": 9,
   "id": "56298236-a4e6-408b-964f-46bd5abbfc79",
   "metadata": {},
   "outputs": [],
   "source": [
    "municipios = gpd.read_file('../data/BR_Municipios_2022/BR_Municipios_2022.shp', encoding='utf-8')"
   ]
  },
  {
   "cell_type": "code",
   "execution_count": 10,
   "id": "f0050601-1e3e-4f4a-9f32-de9883404e22",
   "metadata": {},
   "outputs": [],
   "source": [
    "municipios['CD_MUN_6'] = municipios['CD_MUN'].apply(lambda x: x[0:6])"
   ]
  },
  {
   "cell_type": "code",
   "execution_count": 11,
   "id": "c564ebb9-b86c-4acf-8881-d3a8d64e17b9",
   "metadata": {},
   "outputs": [],
   "source": [
    "municipios_cobertura = municipios.merge(coberturas, how='left', left_on='CD_MUN_6', right_on='Código IBGE 6')"
   ]
  },
  {
   "cell_type": "code",
   "execution_count": 12,
   "id": "7584c394-5e80-49f6-bc72-12d8f5eb2690",
   "metadata": {},
   "outputs": [],
   "source": [
    "municipios_cobertura.drop(['AREA_KM2', 'CD_MUN_6', 'UF Residência', 'Código IBGE 6', 'Nome município'], axis=1, inplace=True)"
   ]
  },
  {
   "cell_type": "code",
   "execution_count": 13,
   "id": "e13cf73b-31ba-4086-b72d-6c6b16e35e8c",
   "metadata": {},
   "outputs": [],
   "source": [
    "imunogenos =  ['BCG', \n",
    "               'DTP', \n",
    "               'DTP (1° Reforço)',\n",
    "               'dTpa Adulto', \n",
    "               'Febre Amarela',\n",
    "               'Hepatite A Infantil', \n",
    "               'Hepatite B', \n",
    "               'Hepatite B (< 30 Dias)',\n",
    "               'Meningo C', \n",
    "               'Meningo C (1° Reforço)', \n",
    "               'Penta (DTP/HepB/Hib)',\n",
    "               'Pneumo 10', \n",
    "               'Pneumo 10 (1° Reforço)', \n",
    "               'Polio Injetável (VIP)',\n",
    "               'Polio Oral Bivalente', \n",
    "               'Rotavírus', \n",
    "               'Tríplice Viral - 1° Dose',\n",
    "               'Tríplice Viral - 2° Dose',\n",
    "               'Varicela']"
   ]
  },
  {
   "cell_type": "code",
   "execution_count": 14,
   "id": "92eecc26-f933-4a39-ad6d-5e9ad7fa7ee1",
   "metadata": {},
   "outputs": [],
   "source": [
    "for imunogeno in imunogenos:\n",
    "    municipios_cobertura[imunogeno] = municipios_cobertura[imunogeno].astype(float)"
   ]
  },
  {
   "cell_type": "code",
   "execution_count": 15,
   "id": "45a1cf16-3afd-4f52-8299-34356138c827",
   "metadata": {},
   "outputs": [],
   "source": [
    "municipios_cobertura.to_csv('../data/municipios_coberturas.csv', encoding='utf-8')"
   ]
  }
 ],
 "metadata": {
  "kernelspec": {
   "display_name": "Base",
   "language": "python",
   "name": "base"
  },
  "language_info": {
   "codemirror_mode": {
    "name": "ipython",
    "version": 3
   },
   "file_extension": ".py",
   "mimetype": "text/x-python",
   "name": "python",
   "nbconvert_exporter": "python",
   "pygments_lexer": "ipython3",
   "version": "3.11.9"
  }
 },
 "nbformat": 4,
 "nbformat_minor": 5
}
